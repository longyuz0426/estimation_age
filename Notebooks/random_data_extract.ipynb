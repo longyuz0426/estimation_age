{
 "cells": [
  {
   "cell_type": "code",
   "execution_count": 1,
   "metadata": {},
   "outputs": [],
   "source": [
    "import pandas as pd\n",
    "import numpy as np\n",
    "import matplotlib.pyplot as plt"
   ]
  },
  {
   "cell_type": "code",
   "execution_count": 2,
   "metadata": {},
   "outputs": [],
   "source": [
    "#lecture des fichiers csv\n",
    "train = pd.read_csv(\"fairface_label_train.csv\")\n",
    "val = pd.read_csv(\"fairface_label_val.csv\")"
   ]
  },
  {
   "cell_type": "code",
   "execution_count": 3,
   "metadata": {},
   "outputs": [
    {
     "data": {
      "text/html": [
       "<div>\n",
       "<style scoped>\n",
       "    .dataframe tbody tr th:only-of-type {\n",
       "        vertical-align: middle;\n",
       "    }\n",
       "\n",
       "    .dataframe tbody tr th {\n",
       "        vertical-align: top;\n",
       "    }\n",
       "\n",
       "    .dataframe thead th {\n",
       "        text-align: right;\n",
       "    }\n",
       "</style>\n",
       "<table border=\"1\" class=\"dataframe\">\n",
       "  <thead>\n",
       "    <tr style=\"text-align: right;\">\n",
       "      <th></th>\n",
       "      <th>file</th>\n",
       "      <th>age</th>\n",
       "      <th>gender</th>\n",
       "      <th>race</th>\n",
       "      <th>service_test</th>\n",
       "    </tr>\n",
       "  </thead>\n",
       "  <tbody>\n",
       "    <tr>\n",
       "      <th>0</th>\n",
       "      <td>train/1.jpg</td>\n",
       "      <td>50-59</td>\n",
       "      <td>Male</td>\n",
       "      <td>East Asian</td>\n",
       "      <td>True</td>\n",
       "    </tr>\n",
       "    <tr>\n",
       "      <th>1</th>\n",
       "      <td>train/2.jpg</td>\n",
       "      <td>30-39</td>\n",
       "      <td>Female</td>\n",
       "      <td>Indian</td>\n",
       "      <td>False</td>\n",
       "    </tr>\n",
       "    <tr>\n",
       "      <th>2</th>\n",
       "      <td>train/3.jpg</td>\n",
       "      <td>3-9</td>\n",
       "      <td>Female</td>\n",
       "      <td>Black</td>\n",
       "      <td>False</td>\n",
       "    </tr>\n",
       "    <tr>\n",
       "      <th>3</th>\n",
       "      <td>train/4.jpg</td>\n",
       "      <td>20-29</td>\n",
       "      <td>Female</td>\n",
       "      <td>Indian</td>\n",
       "      <td>True</td>\n",
       "    </tr>\n",
       "    <tr>\n",
       "      <th>4</th>\n",
       "      <td>train/5.jpg</td>\n",
       "      <td>20-29</td>\n",
       "      <td>Female</td>\n",
       "      <td>Indian</td>\n",
       "      <td>True</td>\n",
       "    </tr>\n",
       "  </tbody>\n",
       "</table>\n",
       "</div>"
      ],
      "text/plain": [
       "          file    age  gender        race  service_test\n",
       "0  train/1.jpg  50-59    Male  East Asian          True\n",
       "1  train/2.jpg  30-39  Female      Indian         False\n",
       "2  train/3.jpg    3-9  Female       Black         False\n",
       "3  train/4.jpg  20-29  Female      Indian          True\n",
       "4  train/5.jpg  20-29  Female      Indian          True"
      ]
     },
     "execution_count": 3,
     "metadata": {},
     "output_type": "execute_result"
    }
   ],
   "source": [
    "train.head()"
   ]
  },
  {
   "cell_type": "code",
   "execution_count": 4,
   "metadata": {},
   "outputs": [
    {
     "name": "stdout",
     "output_type": "stream",
     "text": [
      "dictionnaire d'ages:\n",
      " ['0-2', '3-9', '10-19', '20-29', '30-39', '40-49', '50-59', '60-69', 'more than 70'] <class 'list'>\n",
      "10 premieres tranches d'age de train: ['50-59', '30-39', '3-9', '20-29', '20-29', '20-29', '40-49', '30-39', '10-19', '30-39']\n",
      "10 premieres tranches d'age de val: ['3-9', '50-59', '30-39', '20-29', '20-29', '30-39', '20-29', '3-9', '20-29', '3-9']\n",
      "10 premiers label d'age de train: [6, 4, 1, 3, 3, 3, 5, 4, 2, 4]\n",
      "10 premiers label d'age de val: [1, 6, 4, 3, 3, 4, 3, 1, 3, 1]\n"
     ]
    }
   ],
   "source": [
    "#extraction de la colonne contenant les âges\n",
    "train_age = train['age']\n",
    "val_age = val['age']\n",
    "\n",
    "dic_ages = ['0-2','3-9','10-19','20-29','30-39','40-49','50-59','60-69','more than 70']\n",
    "print(\"dictionnaire d'ages:\\n\",dic_ages,type(dic_ages))\n",
    "\n",
    "#conversion de train_age et val_age en tableau\n",
    "train_age = list(train_age)\n",
    "val_age = list(val_age)\n",
    "print(\"10 premieres tranches d'age de train:\",train_age[0:10])\n",
    "print(\"10 premieres tranches d'age de val:\",val_age[0:10])\n",
    "\n",
    "def age_to_label(dic,list_age) : \n",
    "    #dic : dictionnaire de tranche d'age ocurrence unique\n",
    "    #list_age : tableau qui contient une liste de tranche d'age\n",
    "    #return : un tableau d'int qui contient l'indice de l'élement i de list_age dans dic.\n",
    "    label = []\n",
    "    for ages in list_age :\n",
    "        index = dic.index(ages,0,len(dic))\n",
    "        label.append(index)\n",
    "    return label\n",
    "\n",
    "ytrain = age_to_label(dic_ages,train_age)\n",
    "yval = age_to_label(dic_ages,val_age)\n",
    "print(\"10 premiers label d'age de train:\",ytrain[0:10])\n",
    "print(\"10 premiers label d'age de val:\",yval[0:10])\n",
    "\n"
   ]
  },
  {
   "cell_type": "code",
   "execution_count": 5,
   "metadata": {},
   "outputs": [],
   "source": [
    "#extraction de la colonne contenant le chemin des images\n",
    "train_files = train['file']\n",
    "val_files = val['file']\n",
    "\n",
    "train_files_025= []\n",
    "for i in range(len(train_files)):\n",
    "    train_files_025.append(\"padding_025/\"+train_files[i])\n"
   ]
  },
  {
   "cell_type": "code",
   "execution_count": 6,
   "metadata": {},
   "outputs": [
    {
     "name": "stdout",
     "output_type": "stream",
     "text": [
      "(20000,)\n",
      "(20000, 224, 224, 3)\n"
     ]
    }
   ],
   "source": [
    "#nombre d'images que l'on souhaite extraire de train.\n",
    "nb_images = 20000\n",
    "ytrain_rand = []\n",
    "xtrain_rand = []\n",
    "\n",
    "for i in range(nb_images) : \n",
    "    #indice aléatoire\n",
    "    index = np.random.randint(low = 0,high = len(train_files_025),dtype = 'int') \n",
    "    \n",
    "    #lecture de l'image a cet indice, on l'ajoute dans notre base\n",
    "    file025 = train_files_025[index]\n",
    "    img025 = plt.imread(file025)\n",
    "    xtrain_rand.append(img025)\n",
    "    ytrain_rand.append(ytrain[index])\n",
    "    \n",
    "    #supprime pour pas avoir la même\n",
    "    del train_files_025[index]\n",
    "    del ytrain[index]\n",
    "\n",
    "    \n",
    "ytrain_rand = np.array(ytrain_rand)\n",
    "xtrain_rand = np.array(xtrain_rand)\n",
    "print(ytrain_rand.shape)\n",
    "print(xtrain_rand.shape)\n"
   ]
  },
  {
   "cell_type": "code",
   "execution_count": 7,
   "metadata": {},
   "outputs": [],
   "source": [
    "np.savez('data_rand20k.npz', xtrain=xtrain_rand, ytrain=ytrain_rand, dic = dic_ages)\n",
    "## pour load les données tapez : \n",
    "# data = np.load(\"data_rand20k.npz\")\n",
    "# ytrain = data['ytrain']\n",
    "# xtrain = data['xtrain']\n",
    "# dic = data['dic']"
   ]
  },
  {
   "cell_type": "code",
   "execution_count": null,
   "metadata": {},
   "outputs": [],
   "source": []
  },
  {
   "cell_type": "raw",
   "metadata": {},
   "source": []
  }
 ],
 "metadata": {
  "kernelspec": {
   "display_name": "Python 3",
   "language": "python",
   "name": "python3"
  },
  "language_info": {
   "codemirror_mode": {
    "name": "ipython",
    "version": 3
   },
   "file_extension": ".py",
   "mimetype": "text/x-python",
   "name": "python",
   "nbconvert_exporter": "python",
   "pygments_lexer": "ipython3",
   "version": "3.8.3"
  }
 },
 "nbformat": 4,
 "nbformat_minor": 4
}
