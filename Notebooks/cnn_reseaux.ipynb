{
 "cells": [
  {
   "cell_type": "code",
   "execution_count": 1,
   "metadata": {},
   "outputs": [],
   "source": [
    "import numpy as np \n",
    "import tensorflow as tf\n",
    "import matplotlib.pyplot as plt\n",
    "from  tensorflow.keras.models  import  Sequential \n",
    "from  tensorflow.keras.layers  import  Dense,  Activation,  Dropout,  Flatten, Conv2D,  MaxPool2D, LayerNormalization , BatchNormalization\n",
    "from  tensorflow.keras.optimizers  import  Adam\n",
    "from  tensorflow.keras.callbacks import EarlyStopping, ReduceLROnPlateau"
   ]
  },
  {
   "cell_type": "code",
   "execution_count": 2,
   "metadata": {},
   "outputs": [],
   "source": [
    "#CHARGEMENT DES DONNEES D'APPRENTISSAGE, ON UTILISE LA VALIDATION POUR APPRENDRE\n",
    "label = np.load( \"label_fair_face.npz\" )\n",
    "Y_val = label[ 'yval' ]\n",
    "X_val = np.load( 'xval.npy' )\n",
    "Y_val = tf.keras.utils.to_categorical(Y_val)\n"
   ]
  },
  {
   "cell_type": "code",
   "execution_count": 3,
   "metadata": {},
   "outputs": [
    {
     "name": "stdout",
     "output_type": "stream",
     "text": [
      "Model: \"model\"\n",
      "_________________________________________________________________\n",
      "Layer (type)                 Output Shape              Param #   \n",
      "=================================================================\n",
      "conv2d (Conv2D)              (None, 224, 224, 16)      448       \n",
      "_________________________________________________________________\n",
      "batch_normalization (BatchNo (None, 224, 224, 16)      64        \n",
      "_________________________________________________________________\n",
      "max_pooling2d (MaxPooling2D) (None, 74, 74, 16)        0         \n",
      "_________________________________________________________________\n",
      "dropout (Dropout)            (None, 74, 74, 16)        0         \n",
      "_________________________________________________________________\n",
      "conv2d_1 (Conv2D)            (None, 74, 74, 32)        4640      \n",
      "_________________________________________________________________\n",
      "batch_normalization_1 (Batch (None, 74, 74, 32)        128       \n",
      "_________________________________________________________________\n",
      "max_pooling2d_1 (MaxPooling2 (None, 37, 37, 32)        0         \n",
      "_________________________________________________________________\n",
      "dropout_1 (Dropout)          (None, 37, 37, 32)        0         \n",
      "_________________________________________________________________\n",
      "conv2d_2 (Conv2D)            (None, 37, 37, 32)        9248      \n",
      "_________________________________________________________________\n",
      "batch_normalization_2 (Batch (None, 37, 37, 32)        128       \n",
      "_________________________________________________________________\n",
      "max_pooling2d_2 (MaxPooling2 (None, 18, 18, 32)        0         \n",
      "_________________________________________________________________\n",
      "dropout_2 (Dropout)          (None, 18, 18, 32)        0         \n",
      "_________________________________________________________________\n",
      "flatten (Flatten)            (None, 10368)             0         \n",
      "_________________________________________________________________\n",
      "dense (Dense)                (None, 128)               1327232   \n",
      "_________________________________________________________________\n",
      "batch_normalization_3 (Batch (None, 128)               512       \n",
      "_________________________________________________________________\n",
      "dropout_3 (Dropout)          (None, 128)               0         \n",
      "_________________________________________________________________\n",
      "output (Dense)               (None, 9)                 1161      \n",
      "=================================================================\n",
      "Total params: 1,343,561\n",
      "Trainable params: 1,343,145\n",
      "Non-trainable params: 416\n",
      "_________________________________________________________________\n"
     ]
    }
   ],
   "source": [
    "#DEFINITION MODELE\n",
    "input_shape = (224, 224, 3) \n",
    "\n",
    "model = Sequential( name = 'model' )\n",
    "\n",
    "\n",
    "model.add ( Conv2D (16, (3, 3),  padding = 'same', activation = 'relu', input_shape = input_shape)) \n",
    "model.add(BatchNormalization())\n",
    "model.add ( MaxPool2D (pool_size = (3, 3)))\n",
    "model.add(Dropout(0.25))\n",
    "\n",
    "model.add ( Conv2D (32, (3, 3),  padding = 'same', activation = 'relu', input_shape = input_shape)) \n",
    "model.add(BatchNormalization())\n",
    "model.add ( MaxPool2D (pool_size = (2, 2)))\n",
    "model.add(Dropout(0.25))\n",
    "\n",
    "model.add ( Conv2D (32, (3, 3),  padding = 'same', activation = 'relu', input_shape = input_shape)) \n",
    "model.add(BatchNormalization())\n",
    "model.add ( MaxPool2D (pool_size = (2, 2)))\n",
    "model.add(Dropout(0.25))\n",
    "\n",
    "model.add (Flatten()) \n",
    "model.add (Dense (128 , activation = 'relu' )) \n",
    "model.add(BatchNormalization())\n",
    "model.add(Dropout(0.4))\n",
    "\n",
    "model.add ( Dense (9 ,  activation= 'softmax' ,  name = 'output' ))   # Il y a 9 classes \n",
    "\n",
    "\n",
    "model.summary ()"
   ]
  },
  {
   "cell_type": "code",
   "execution_count": 4,
   "metadata": {},
   "outputs": [
    {
     "name": "stdout",
     "output_type": "stream",
     "text": [
      "Epoch 1/250\n",
      "548/548 [==============================] - 116s 211ms/step - loss: 2.7546 - accuracy: 0.1646 - val_loss: 2.9855 - val_accuracy: 0.1597\n",
      "Epoch 2/250\n",
      "548/548 [==============================] - 13s 24ms/step - loss: 2.3120 - accuracy: 0.2299 - val_loss: 3.6574 - val_accuracy: 0.2131\n",
      "Epoch 3/250\n",
      "548/548 [==============================] - 8s 15ms/step - loss: 2.1466 - accuracy: 0.2674 - val_loss: 4.9492 - val_accuracy: 0.2026\n",
      "Epoch 4/250\n",
      "548/548 [==============================] - 8s 14ms/step - loss: 2.0082 - accuracy: 0.2952 - val_loss: 4.1536 - val_accuracy: 0.2086\n",
      "Epoch 5/250\n",
      "548/548 [==============================] - 7s 12ms/step - loss: 1.9429 - accuracy: 0.3101 - val_loss: 4.0798 - val_accuracy: 0.2478\n",
      "Epoch 6/250\n",
      "548/548 [==============================] - 7s 14ms/step - loss: 1.8288 - accuracy: 0.3425 - val_loss: 3.2882 - val_accuracy: 0.2716\n",
      "Epoch 7/250\n",
      "548/548 [==============================] - 8s 15ms/step - loss: 1.7732 - accuracy: 0.3528 - val_loss: 3.1304 - val_accuracy: 0.2529\n",
      "Epoch 8/250\n",
      "548/548 [==============================] - 11s 20ms/step - loss: 1.7089 - accuracy: 0.3767 - val_loss: 2.5509 - val_accuracy: 0.2761\n",
      "Epoch 9/250\n",
      "548/548 [==============================] - 9s 16ms/step - loss: 1.6488 - accuracy: 0.3830 - val_loss: 2.6506 - val_accuracy: 0.3117\n",
      "Epoch 10/250\n",
      "548/548 [==============================] - 9s 16ms/step - loss: 1.6022 - accuracy: 0.4033 - val_loss: 2.4336 - val_accuracy: 0.3368\n",
      "Epoch 11/250\n",
      "548/548 [==============================] - 8s 15ms/step - loss: 1.5303 - accuracy: 0.4257 - val_loss: 2.1331 - val_accuracy: 0.3359\n",
      "Epoch 12/250\n",
      "548/548 [==============================] - 9s 16ms/step - loss: 1.4934 - accuracy: 0.4300 - val_loss: 2.6760 - val_accuracy: 0.3122\n",
      "Epoch 13/250\n",
      "548/548 [==============================] - 8s 15ms/step - loss: 1.4517 - accuracy: 0.4464 - val_loss: 2.3345 - val_accuracy: 0.3373\n",
      "Epoch 14/250\n",
      "548/548 [==============================] - 9s 17ms/step - loss: 1.4191 - accuracy: 0.4606 - val_loss: 2.4113 - val_accuracy: 0.3364\n",
      "Epoch 15/250\n",
      "548/548 [==============================] - 8s 15ms/step - loss: 1.3635 - accuracy: 0.4761 - val_loss: 2.3355 - val_accuracy: 0.3450\n",
      "Epoch 16/250\n",
      "548/548 [==============================] - 8s 15ms/step - loss: 1.3439 - accuracy: 0.4891 - val_loss: 1.7186 - val_accuracy: 0.3542\n",
      "Epoch 17/250\n",
      "548/548 [==============================] - 8s 14ms/step - loss: 1.3041 - accuracy: 0.5046 - val_loss: 1.8607 - val_accuracy: 0.3546\n",
      "Epoch 18/250\n",
      "548/548 [==============================] - 8s 14ms/step - loss: 1.2826 - accuracy: 0.5072 - val_loss: 1.8983 - val_accuracy: 0.3660\n",
      "Epoch 19/250\n",
      "548/548 [==============================] - 7s 13ms/step - loss: 1.2452 - accuracy: 0.5208 - val_loss: 1.9702 - val_accuracy: 0.3697\n",
      "Epoch 20/250\n",
      "548/548 [==============================] - 7s 13ms/step - loss: 1.2186 - accuracy: 0.5319 - val_loss: 2.1217 - val_accuracy: 0.3628\n",
      "Epoch 21/250\n",
      "548/548 [==============================] - 7s 12ms/step - loss: 1.1883 - accuracy: 0.5467 - val_loss: 2.8374 - val_accuracy: 0.3314\n",
      "Epoch 22/250\n",
      "548/548 [==============================] - 7s 13ms/step - loss: 1.1687 - accuracy: 0.5500 - val_loss: 1.9093 - val_accuracy: 0.3647\n",
      "Epoch 23/250\n",
      "548/548 [==============================] - 7s 13ms/step - loss: 1.1486 - accuracy: 0.5624 - val_loss: 2.0454 - val_accuracy: 0.3720\n",
      "Epoch 24/250\n",
      "548/548 [==============================] - 6s 12ms/step - loss: 1.1350 - accuracy: 0.5660 - val_loss: 1.9749 - val_accuracy: 0.3619\n",
      "Epoch 25/250\n",
      "548/548 [==============================] - 7s 12ms/step - loss: 1.1002 - accuracy: 0.5810 - val_loss: 1.9408 - val_accuracy: 0.3692\n",
      "Epoch 26/250\n",
      "548/548 [==============================] - 7s 12ms/step - loss: 1.0841 - accuracy: 0.5911 - val_loss: 2.0982 - val_accuracy: 0.3628\n",
      "Epoch 27/250\n",
      "548/548 [==============================] - 7s 12ms/step - loss: 1.0677 - accuracy: 0.5952 - val_loss: 1.9848 - val_accuracy: 0.3720\n",
      "Epoch 28/250\n",
      "548/548 [==============================] - 6s 11ms/step - loss: 1.0330 - accuracy: 0.6089 - val_loss: 1.7815 - val_accuracy: 0.3779\n",
      "Epoch 29/250\n",
      "548/548 [==============================] - 6s 12ms/step - loss: 1.0106 - accuracy: 0.6233 - val_loss: 1.8614 - val_accuracy: 0.3724\n",
      "Epoch 30/250\n",
      "548/548 [==============================] - 8s 14ms/step - loss: 0.9890 - accuracy: 0.6271 - val_loss: 1.9322 - val_accuracy: 0.3706\n",
      "Epoch 31/250\n",
      "548/548 [==============================] - 8s 14ms/step - loss: 0.9576 - accuracy: 0.6406 - val_loss: 1.9717 - val_accuracy: 0.3724\n",
      "Epoch 32/250\n",
      "548/548 [==============================] - 8s 14ms/step - loss: 0.9673 - accuracy: 0.6378 - val_loss: 2.0251 - val_accuracy: 0.3519\n",
      "Epoch 33/250\n",
      "548/548 [==============================] - 8s 14ms/step - loss: 0.9312 - accuracy: 0.6505 - val_loss: 1.9117 - val_accuracy: 0.3533\n",
      "Epoch 34/250\n",
      "548/548 [==============================] - 7s 13ms/step - loss: 0.9153 - accuracy: 0.6600 - val_loss: 1.7993 - val_accuracy: 0.3724\n",
      "Epoch 35/250\n",
      "548/548 [==============================] - 7s 13ms/step - loss: 0.8976 - accuracy: 0.6628 - val_loss: 1.9236 - val_accuracy: 0.3733\n",
      "Epoch 36/250\n",
      "548/548 [==============================] - 8s 14ms/step - loss: 0.8723 - accuracy: 0.6736 - val_loss: 2.1185 - val_accuracy: 0.3697\n",
      "Epoch 00036: early stopping\n",
      "WARNING:tensorflow:From /usr/local/lib64/python3.6/site-packages/tensorflow/python/training/tracking/tracking.py:111: Model.state_updates (from tensorflow.python.keras.engine.training) is deprecated and will be removed in a future version.\n",
      "Instructions for updating:\n",
      "This property should not be used in TensorFlow 2.0, as updates are applied automatically.\n",
      "WARNING:tensorflow:From /usr/local/lib64/python3.6/site-packages/tensorflow/python/training/tracking/tracking.py:111: Layer.updates (from tensorflow.python.keras.engine.base_layer) is deprecated and will be removed in a future version.\n",
      "Instructions for updating:\n",
      "This property should not be used in TensorFlow 2.0, as updates are applied automatically.\n",
      "INFO:tensorflow:Assets written to: saved_model/model_utk/assets\n"
     ]
    },
    {
     "data": {
      "image/png": "[encoded data removed]",
      "text/plain": [
       "<Figure size 432x288 with 1 Axes>"
      ]
     },
     "metadata": {
      "needs_background": "light"
     },
     "output_type": "display_data"
    },
    {
     "data": {
      "image/png": "[encoded data removed]",
      "text/plain": [
       "<Figure size 432x288 with 1 Axes>"
      ]
     },
     "metadata": {
      "needs_background": "light"
     },
     "output_type": "display_data"
    }
   ],
   "source": [
    "#APPRENTISSAGE\n",
    "\n",
    "load_model = False\n",
    "\n",
    "if (load_model == True):\n",
    "    model = tf.keras.models.load_model('saved_model/model_utk')\n",
    "else:\n",
    "    batch_size = 16\n",
    "    epochs = 250\n",
    "    model.compile(loss = 'categorical_crossentropy', optimizer = Adam(lr=1e-4),  metrics=['accuracy']) \n",
    "    \n",
    "    callbacks_list = [EarlyStopping(monitor='val_loss', patience=20, verbose = 1)]\n",
    "    \n",
    "    history = model.fit(X_val, Y_val, epochs = epochs, batch_size = batch_size,validation_split = 0.2, callbacks=callbacks_list)\n",
    "    \n",
    "    tf.keras.models.save_model(model, 'saved_model/model_utk', overwrite=True, include_optimizer=True)\n",
    "    \n",
    "    plt.figure()\n",
    "    plt.plot(history.history['accuracy'])\n",
    "    plt.plot(history.history['val_accuracy'])\n",
    "    plt.title('accuracy vs val_accuracy')\n",
    "    plt.ylabel('accuracy')\n",
    "    plt.xlabel('epoch')\n",
    "    plt.legend(['Train', 'Validation'], loc='upper right')\n",
    "    plt.tight_layout()\n",
    "    plt.show()\n",
    "\n",
    "    plt.figure()\n",
    "    plt.plot(history.history['loss'])\n",
    "    plt.plot(history.history['val_loss'])\n",
    "    plt.title('loss vs val_loss')\n",
    "    plt.ylabel('loss')\n",
    "    plt.xlabel('epoch')\n",
    "    plt.legend(['Train', 'Validation'], loc='upper right')\n",
    "    plt.tight_layout()\n",
    "    plt.show()\n"
   ]
  },
  {
   "cell_type": "code",
   "execution_count": null,
   "metadata": {},
   "outputs": [],
   "source": []
  },
  {
   "cell_type": "code",
   "execution_count": null,
   "metadata": {},
   "outputs": [],
   "source": []
  }
 ],
 "metadata": {
  "kernelspec": {
   "display_name": "Python 3",
   "language": "python",
   "name": "python3"
  },
  "language_info": {
   "codemirror_mode": {
    "name": "ipython",
    "version": 3
   },
   "file_extension": ".py",
   "mimetype": "text/x-python",
   "name": "python",
   "nbconvert_exporter": "python",
   "pygments_lexer": "ipython3",
   "version": "3.6.8"
  }
 },
 "nbformat": 4,
 "nbformat_minor": 4
}
